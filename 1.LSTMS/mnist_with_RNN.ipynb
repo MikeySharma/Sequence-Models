{
 "cells": [
  {
   "cell_type": "markdown",
   "id": "e38aae73-384f-45e6-be74-fd9ffafd695e",
   "metadata": {},
   "source": [
    "<h1>MNIST DATASET </h1>"
   ]
  },
  {
   "cell_type": "markdown",
   "id": "00519c45-0bdb-4df7-a8e9-ca36afb2e23b",
   "metadata": {},
   "source": [
    "# Import Libraries"
   ]
  },
  {
   "cell_type": "code",
   "execution_count": 1,
   "id": "4dece266-74bc-4471-84d5-c08da81b19b3",
   "metadata": {},
   "outputs": [],
   "source": [
    "import matplotlib.pyplot as plt\n",
    "import seaborn as sns\n",
    "import pandas as pd\n",
    "\n",
    "import os\n",
    "import cv2\n",
    "import numpy as np\n",
    "import tensorflow as tf\n",
    "\n",
    "from sklearn.model_selection import train_test_split\n",
    "\n",
    "from tensorflow.keras.utils import to_categorical\n",
    "\n",
    "from tensorflow.keras.models import Sequential\n",
    "from tensorflow.keras.layers import Dense,Dropout,LSTM\n",
    "from keras.optimizers import SGD\n",
    "\n",
    "import warnings                      \n",
    "warnings.simplefilter(\"ignore\")  # ignores the warning"
   ]
  },
  {
   "cell_type": "markdown",
   "id": "6a7d31ec-5b5a-483e-8168-7e22f4241d37",
   "metadata": {},
   "source": [
    "# Load .npy file"
   ]
  },
  {
   "cell_type": "code",
   "execution_count": 2,
   "id": "fb737d68-8996-448c-b880-05da280105d1",
   "metadata": {},
   "outputs": [],
   "source": [
    "# Load the MNIST data from .npy file\n",
    "data = np.load('data/mnist_data.npy', allow_pickle=True)\n",
    "images = data.item().get('images')\n",
    "labels = data.item().get('labels')"
   ]
  },
  {
   "cell_type": "markdown",
   "id": "f1268c25",
   "metadata": {},
   "source": [
    "# Visualize"
   ]
  },
  {
   "cell_type": "code",
   "execution_count": 3,
   "id": "4a29fa94",
   "metadata": {},
   "outputs": [],
   "source": [
    "import random"
   ]
  },
  {
   "cell_type": "code",
   "execution_count": 4,
   "id": "a47b213c",
   "metadata": {},
   "outputs": [
    {
     "data": {
      "image/png": "[encoded data removed]",
      "text/plain": [
       "<Figure size 1600x1600 with 10 Axes>"
      ]
     },
     "metadata": {},
     "output_type": "display_data"
    }
   ],
   "source": [
    "def random_value_for_index(labels, target_value):\n",
    "    indices = [index for index, value in enumerate(labels) if value == target_value]\n",
    "    return random.choice(indices)\n",
    "\n",
    "# Define categories\n",
    "categories = [0, 1, 2, 3, 4, 5, 6, 7, 8, 9]\n",
    "\n",
    "# Create subplots\n",
    "fig, axs = plt.subplots(1, 10, figsize=(16, 16))\n",
    "\n",
    "for index, category in enumerate(categories):\n",
    "    # Select random image index from specific category\n",
    "    random_index = random_value_for_index(labels, category)\n",
    "    # Plot the random image\n",
    "    axs[index].imshow(images[random_index].reshape(28, 28), cmap='gray')\n",
    "    axs[index].axis('off')\n",
    "    axs[index].set_title(category)\n",
    "\n",
    "plt.subplots_adjust(wspace=0.1, hspace=0.1)\n",
    "plt.show()"
   ]
  },
  {
   "cell_type": "markdown",
   "id": "3174e4ab-05bd-413b-b852-fc22f164a613",
   "metadata": {},
   "source": [
    "# Train Test Split"
   ]
  },
  {
   "cell_type": "code",
   "execution_count": 5,
   "id": "ab7d9ecd-d41a-405c-a38c-6f05004b8020",
   "metadata": {},
   "outputs": [],
   "source": [
    "x_train,x_test,y_train,y_test = train_test_split(images, labels, test_size=0.2, random_state=11)"
   ]
  },
  {
   "cell_type": "code",
   "execution_count": 6,
   "id": "f59db88b",
   "metadata": {},
   "outputs": [],
   "source": [
    "x_train = x_train.reshape(-1, 28, 28)\n",
    "x_test = x_test.reshape(-1, 28, 28)"
   ]
  },
  {
   "cell_type": "code",
   "execution_count": 7,
   "id": "15cb84e6-3be8-47d7-8eaf-4ed26e03c370",
   "metadata": {},
   "outputs": [
    {
     "name": "stdout",
     "output_type": "stream",
     "text": [
      "X_train shape :  (33600, 28, 28)\n",
      "y_train shape :  (33600,)\n",
      "X_test shape :  (8400, 28, 28)\n",
      "y_test shape :  (8400,)\n"
     ]
    }
   ],
   "source": [
    "print(\"X_train shape : \",x_train.shape)\n",
    "print(\"y_train shape : \",y_train.shape)\n",
    "print(\"X_test shape : \",x_test.shape)\n",
    "print(\"y_test shape : \",y_test.shape)\n"
   ]
  },
  {
   "cell_type": "markdown",
   "id": "9f86078e",
   "metadata": {},
   "source": [
    "# Normalization"
   ]
  },
  {
   "cell_type": "code",
   "execution_count": 8,
   "id": "450e7328",
   "metadata": {},
   "outputs": [],
   "source": [
    "x_train = tf.keras.utils.normalize(x_train, axis=1)\n",
    "x_test = tf.keras.utils.normalize(x_test, axis=1)"
   ]
  },
  {
   "cell_type": "code",
   "execution_count": 9,
   "id": "0ce0ea96",
   "metadata": {},
   "outputs": [
    {
     "data": {
      "text/plain": [
       "(33600, 28, 28)"
      ]
     },
     "execution_count": 9,
     "metadata": {},
     "output_type": "execute_result"
    }
   ],
   "source": [
    "x_train.shape"
   ]
  },
  {
   "cell_type": "markdown",
   "id": "9af57835-f185-45e5-af66-e0b32f84ea30",
   "metadata": {},
   "source": [
    "# Train RNN model"
   ]
  },
  {
   "cell_type": "code",
   "execution_count": 10,
   "id": "4bd3a182-f4c2-4ca3-afbf-83150c244cf6",
   "metadata": {},
   "outputs": [],
   "source": [
    "model = Sequential()\n",
    "model.add(LSTM(128, input_shape=(28,28 )))\n",
    "model.add(Dropout(0.2))\n",
    "model.add(Dense(128, activation='relu'))\n",
    "model.add(Dropout(0.2))\n",
    "model.add(Dense(10, activation='softmax'))"
   ]
  },
  {
   "cell_type": "code",
   "execution_count": 45,
   "id": "d43c9e3a-5bf4-446b-92dc-8f1d8c3c5b3c",
   "metadata": {},
   "outputs": [
    {
     "name": "stdout",
     "output_type": "stream",
     "text": [
      "Model: \"sequential_10\"\n",
      "_________________________________________________________________\n",
      " Layer (type)                Output Shape              Param #   \n",
      "=================================================================\n",
      " lstm_10 (LSTM)              (None, 128)               80384     \n",
      "                                                                 \n",
      " dropout_2 (Dropout)         (None, 128)               0         \n",
      "                                                                 \n",
      " dense_4 (Dense)             (None, 128)               16512     \n",
      "                                                                 \n",
      " dropout_3 (Dropout)         (None, 128)               0         \n",
      "                                                                 \n",
      " dense_5 (Dense)             (None, 10)                1290      \n",
      "                                                                 \n",
      "=================================================================\n",
      "Total params: 98186 (383.54 KB)\n",
      "Trainable params: 98186 (383.54 KB)\n",
      "Non-trainable params: 0 (0.00 Byte)\n",
      "_________________________________________________________________\n"
     ]
    }
   ],
   "source": [
    "model.summary()"
   ]
  },
  {
   "cell_type": "markdown",
   "id": "c89beb68",
   "metadata": {},
   "source": [
    "# Early Stoping"
   ]
  },
  {
   "cell_type": "code",
   "execution_count": 11,
   "id": "1fa8f8c1",
   "metadata": {},
   "outputs": [],
   "source": [
    "from tensorflow.keras.callbacks import EarlyStopping\n",
    "early_stop=EarlyStopping(monitor='val_loss',patience=5)"
   ]
  },
  {
   "cell_type": "markdown",
   "id": "f211871c",
   "metadata": {},
   "source": [
    "# Compile"
   ]
  },
  {
   "cell_type": "code",
   "execution_count": 12,
   "id": "5a3b029a",
   "metadata": {},
   "outputs": [],
   "source": [
    "model.compile(optimizer='sgd', loss='sparse_categorical_crossentropy', metrics=['accuracy'])\n"
   ]
  },
  {
   "cell_type": "markdown",
   "id": "308c22f8",
   "metadata": {},
   "source": [
    "# Train"
   ]
  },
  {
   "cell_type": "code",
   "execution_count": 13,
   "id": "ba98a117",
   "metadata": {},
   "outputs": [
    {
     "name": "stdout",
     "output_type": "stream",
     "text": [
      "Epoch 1/100\n",
      "945/945 [==============================] - 30s 29ms/step - loss: 2.2898 - accuracy: 0.1684 - val_loss: 2.2722 - val_accuracy: 0.2196\n",
      "Epoch 2/100\n",
      "945/945 [==============================] - 30s 32ms/step - loss: 2.2151 - accuracy: 0.2389 - val_loss: 2.0936 - val_accuracy: 0.2717\n",
      "Epoch 3/100\n",
      "945/945 [==============================] - 24s 26ms/step - loss: 1.9298 - accuracy: 0.3261 - val_loss: 1.6975 - val_accuracy: 0.4092\n",
      "Epoch 4/100\n",
      "945/945 [==============================] - 25s 27ms/step - loss: 1.5644 - accuracy: 0.4358 - val_loss: 1.3072 - val_accuracy: 0.5280\n",
      "Epoch 5/100\n",
      "945/945 [==============================] - 27s 28ms/step - loss: 1.2355 - accuracy: 0.5488 - val_loss: 0.9943 - val_accuracy: 0.6372\n",
      "Epoch 6/100\n",
      "945/945 [==============================] - 23s 25ms/step - loss: 0.9109 - accuracy: 0.6766 - val_loss: 0.7001 - val_accuracy: 0.7622\n",
      "Epoch 7/100\n",
      "945/945 [==============================] - 22s 24ms/step - loss: 0.6910 - accuracy: 0.7742 - val_loss: 0.5492 - val_accuracy: 0.8211\n",
      "Epoch 8/100\n",
      "945/945 [==============================] - 26s 28ms/step - loss: 0.5443 - accuracy: 0.8280 - val_loss: 0.4445 - val_accuracy: 0.8554\n",
      "Epoch 9/100\n",
      "945/945 [==============================] - 23s 24ms/step - loss: 0.4611 - accuracy: 0.8569 - val_loss: 0.3745 - val_accuracy: 0.8774\n",
      "Epoch 10/100\n",
      "945/945 [==============================] - 25s 26ms/step - loss: 0.3963 - accuracy: 0.8784 - val_loss: 0.3494 - val_accuracy: 0.8905\n",
      "Epoch 11/100\n",
      "945/945 [==============================] - 23s 24ms/step - loss: 0.3549 - accuracy: 0.8911 - val_loss: 0.3196 - val_accuracy: 0.9027\n",
      "Epoch 12/100\n",
      "945/945 [==============================] - 24s 26ms/step - loss: 0.3191 - accuracy: 0.9035 - val_loss: 0.3651 - val_accuracy: 0.8821\n",
      "Epoch 13/100\n",
      "945/945 [==============================] - 26s 27ms/step - loss: 0.2940 - accuracy: 0.9109 - val_loss: 0.2509 - val_accuracy: 0.9250\n",
      "Epoch 14/100\n",
      "945/945 [==============================] - 25s 26ms/step - loss: 0.2673 - accuracy: 0.9190 - val_loss: 0.2660 - val_accuracy: 0.9220\n",
      "Epoch 15/100\n",
      "945/945 [==============================] - 23s 25ms/step - loss: 0.2532 - accuracy: 0.9236 - val_loss: 0.2230 - val_accuracy: 0.9304\n",
      "Epoch 16/100\n",
      "945/945 [==============================] - 23s 25ms/step - loss: 0.2367 - accuracy: 0.9290 - val_loss: 0.2085 - val_accuracy: 0.9336\n",
      "Epoch 17/100\n",
      "945/945 [==============================] - 24s 26ms/step - loss: 0.2192 - accuracy: 0.9331 - val_loss: 0.2112 - val_accuracy: 0.9321\n",
      "Epoch 18/100\n",
      "945/945 [==============================] - 24s 26ms/step - loss: 0.2087 - accuracy: 0.9374 - val_loss: 0.1883 - val_accuracy: 0.9408\n",
      "Epoch 19/100\n",
      "945/945 [==============================] - 21s 23ms/step - loss: 0.1989 - accuracy: 0.9400 - val_loss: 0.2032 - val_accuracy: 0.9357\n",
      "Epoch 20/100\n",
      "945/945 [==============================] - 23s 24ms/step - loss: 0.1899 - accuracy: 0.9430 - val_loss: 0.2072 - val_accuracy: 0.9360\n",
      "Epoch 21/100\n",
      "945/945 [==============================] - 20s 21ms/step - loss: 0.1804 - accuracy: 0.9456 - val_loss: 0.1833 - val_accuracy: 0.9423\n",
      "Epoch 22/100\n",
      "945/945 [==============================] - 23s 25ms/step - loss: 0.1703 - accuracy: 0.9480 - val_loss: 0.1916 - val_accuracy: 0.9411\n",
      "Epoch 23/100\n",
      "945/945 [==============================] - 20s 21ms/step - loss: 0.1650 - accuracy: 0.9500 - val_loss: 0.1672 - val_accuracy: 0.9452\n",
      "Epoch 24/100\n",
      "945/945 [==============================] - 20s 21ms/step - loss: 0.1559 - accuracy: 0.9537 - val_loss: 0.1731 - val_accuracy: 0.9417\n",
      "Epoch 25/100\n",
      "945/945 [==============================] - 20s 21ms/step - loss: 0.1533 - accuracy: 0.9530 - val_loss: 0.1973 - val_accuracy: 0.9378\n",
      "Epoch 26/100\n",
      "945/945 [==============================] - 20s 21ms/step - loss: 0.1462 - accuracy: 0.9562 - val_loss: 0.1575 - val_accuracy: 0.9476\n",
      "Epoch 27/100\n",
      "945/945 [==============================] - 20s 21ms/step - loss: 0.1405 - accuracy: 0.9580 - val_loss: 0.1455 - val_accuracy: 0.9518\n",
      "Epoch 28/100\n",
      "945/945 [==============================] - 21s 22ms/step - loss: 0.1349 - accuracy: 0.9597 - val_loss: 0.1419 - val_accuracy: 0.9530\n",
      "Epoch 29/100\n",
      "945/945 [==============================] - 24s 25ms/step - loss: 0.1317 - accuracy: 0.9595 - val_loss: 0.1450 - val_accuracy: 0.9521\n",
      "Epoch 30/100\n",
      "945/945 [==============================] - 23s 24ms/step - loss: 0.1273 - accuracy: 0.9611 - val_loss: 0.1379 - val_accuracy: 0.9557\n",
      "Epoch 31/100\n",
      "945/945 [==============================] - 23s 25ms/step - loss: 0.1225 - accuracy: 0.9620 - val_loss: 0.1484 - val_accuracy: 0.9563\n",
      "Epoch 32/100\n",
      "945/945 [==============================] - 21s 22ms/step - loss: 0.1179 - accuracy: 0.9647 - val_loss: 0.1322 - val_accuracy: 0.9622\n",
      "Epoch 33/100\n",
      "945/945 [==============================] - 20s 21ms/step - loss: 0.1139 - accuracy: 0.9657 - val_loss: 0.1448 - val_accuracy: 0.9565\n",
      "Epoch 34/100\n",
      "945/945 [==============================] - 20s 21ms/step - loss: 0.1129 - accuracy: 0.9657 - val_loss: 0.1294 - val_accuracy: 0.9601\n",
      "Epoch 35/100\n",
      "945/945 [==============================] - 22s 24ms/step - loss: 0.1085 - accuracy: 0.9673 - val_loss: 0.1397 - val_accuracy: 0.9530\n",
      "Epoch 36/100\n",
      "945/945 [==============================] - 20s 21ms/step - loss: 0.1045 - accuracy: 0.9683 - val_loss: 0.1325 - val_accuracy: 0.9589\n",
      "Epoch 37/100\n",
      "945/945 [==============================] - 22s 23ms/step - loss: 0.1031 - accuracy: 0.9695 - val_loss: 0.1275 - val_accuracy: 0.9628\n",
      "Epoch 38/100\n",
      "945/945 [==============================] - 22s 24ms/step - loss: 0.1011 - accuracy: 0.9693 - val_loss: 0.1278 - val_accuracy: 0.9619\n",
      "Epoch 39/100\n",
      "945/945 [==============================] - 22s 23ms/step - loss: 0.0980 - accuracy: 0.9700 - val_loss: 0.1166 - val_accuracy: 0.9652\n",
      "Epoch 40/100\n",
      "945/945 [==============================] - 20s 21ms/step - loss: 0.0944 - accuracy: 0.9713 - val_loss: 0.1362 - val_accuracy: 0.9601\n",
      "Epoch 41/100\n",
      "945/945 [==============================] - 21s 23ms/step - loss: 0.0915 - accuracy: 0.9726 - val_loss: 0.1112 - val_accuracy: 0.9661\n",
      "Epoch 42/100\n",
      "945/945 [==============================] - 20s 21ms/step - loss: 0.0890 - accuracy: 0.9732 - val_loss: 0.1172 - val_accuracy: 0.9673\n",
      "Epoch 43/100\n",
      "945/945 [==============================] - 20s 21ms/step - loss: 0.0847 - accuracy: 0.9732 - val_loss: 0.1333 - val_accuracy: 0.9598\n",
      "Epoch 44/100\n",
      "945/945 [==============================] - 20s 21ms/step - loss: 0.0838 - accuracy: 0.9747 - val_loss: 0.1143 - val_accuracy: 0.9673\n",
      "Epoch 45/100\n",
      "945/945 [==============================] - 21s 22ms/step - loss: 0.0798 - accuracy: 0.9750 - val_loss: 0.1189 - val_accuracy: 0.9643\n",
      "Epoch 46/100\n",
      "945/945 [==============================] - 20s 21ms/step - loss: 0.0810 - accuracy: 0.9750 - val_loss: 0.1241 - val_accuracy: 0.9652\n"
     ]
    }
   ],
   "source": [
    "history = model.fit(x_train, y_train, epochs=100, batch_size=32, validation_split=0.1,callbacks=[early_stop])"
   ]
  },
  {
   "cell_type": "markdown",
   "id": "92c1f28f",
   "metadata": {},
   "source": [
    "# Metrics"
   ]
  },
  {
   "cell_type": "code",
   "execution_count": 14,
   "id": "f55b3d61",
   "metadata": {},
   "outputs": [],
   "source": [
    "metrics=pd.DataFrame(model.history.history)"
   ]
  },
  {
   "cell_type": "code",
   "execution_count": 15,
   "id": "8a1079fd",
   "metadata": {},
   "outputs": [
    {
     "data": {
      "text/plain": [
       "<Axes: >"
      ]
     },
     "execution_count": 15,
     "metadata": {},
     "output_type": "execute_result"
    },
    {
     "data": {
      "image/png": "[encoded data removed]",
      "text/plain": [
       "<Figure size 640x480 with 1 Axes>"
      ]
     },
     "metadata": {},
     "output_type": "display_data"
    }
   ],
   "source": [
    "metrics[['loss','val_loss']].plot()"
   ]
  },
  {
   "cell_type": "code",
   "execution_count": 16,
   "id": "0399c31c",
   "metadata": {},
   "outputs": [
    {
     "data": {
      "text/plain": [
       "<Axes: >"
      ]
     },
     "execution_count": 16,
     "metadata": {},
     "output_type": "execute_result"
    },
    {
     "data": {
      "image/png": "[encoded data removed]",
      "text/plain": [
       "<Figure size 640x480 with 1 Axes>"
      ]
     },
     "metadata": {},
     "output_type": "display_data"
    }
   ],
   "source": [
    "metrics[['accuracy', 'val_accuracy']].plot()"
   ]
  },
  {
   "cell_type": "code",
   "execution_count": 17,
   "id": "65ef049d",
   "metadata": {},
   "outputs": [],
   "source": [
    "model.save(\"model/mnist_lstm.h5\")"
   ]
  },
  {
   "cell_type": "code",
   "execution_count": 18,
   "id": "a29b4a5f",
   "metadata": {},
   "outputs": [],
   "source": [
    "from keras.models import load_model\n",
    "model= load_model(\"model/mnist_lstm.h5\")"
   ]
  },
  {
   "cell_type": "markdown",
   "id": "4e616825",
   "metadata": {},
   "source": [
    "# Predict on Test data"
   ]
  },
  {
   "cell_type": "code",
   "execution_count": 36,
   "id": "8370590d",
   "metadata": {},
   "outputs": [
    {
     "data": {
      "text/plain": [
       "(8400, 28, 28)"
      ]
     },
     "execution_count": 36,
     "metadata": {},
     "output_type": "execute_result"
    }
   ],
   "source": [
    "x_test.shape"
   ]
  },
  {
   "cell_type": "code",
   "execution_count": 19,
   "id": "2a27ff53-497c-4927-b83e-5355f2c34ef6",
   "metadata": {},
   "outputs": [
    {
     "name": "stdout",
     "output_type": "stream",
     "text": [
      "263/263 [==============================] - 4s 12ms/step\n"
     ]
    }
   ],
   "source": [
    "y_pred = model.predict(x_test)"
   ]
  },
  {
   "cell_type": "code",
   "execution_count": 20,
   "id": "260b77c7",
   "metadata": {},
   "outputs": [
    {
     "data": {
      "text/plain": [
       "array([[2.5149661e-06, 9.7959650e-01, 1.4185633e-04, ..., 6.4803928e-04,\n",
       "        1.8336544e-02, 2.5594799e-04],\n",
       "       [9.6094598e-05, 1.8004321e-06, 7.2923553e-06, ..., 1.3002453e-04,\n",
       "        7.5724733e-04, 9.9809247e-01],\n",
       "       [2.7544636e-05, 1.2725909e-06, 8.4249368e-05, ..., 4.0358996e-09,\n",
       "        4.0062855e-06, 6.4077579e-09],\n",
       "       ...,\n",
       "       [6.7333366e-09, 9.9980491e-01, 6.6652829e-05, ..., 8.9258901e-05,\n",
       "        3.0026313e-05, 2.0782080e-07],\n",
       "       [2.7697401e-05, 9.3789522e-06, 1.7853910e-06, ..., 7.2304747e-06,\n",
       "        1.5135086e-04, 9.0619025e-05],\n",
       "       [9.9542338e-01, 5.5478938e-07, 1.0336988e-03, ..., 5.4370765e-05,\n",
       "        4.5258919e-04, 2.0347002e-03]], dtype=float32)"
      ]
     },
     "execution_count": 20,
     "metadata": {},
     "output_type": "execute_result"
    }
   ],
   "source": [
    "y_pred"
   ]
  },
  {
   "cell_type": "code",
   "execution_count": 21,
   "id": "2c87d2fd",
   "metadata": {},
   "outputs": [],
   "source": [
    "y_pred = np.argmax(y_pred, axis=1)"
   ]
  },
  {
   "cell_type": "code",
   "execution_count": 22,
   "id": "c9f57ca0",
   "metadata": {},
   "outputs": [
    {
     "data": {
      "text/plain": [
       "array([1, 9, 6, ..., 1, 5, 0], dtype=int64)"
      ]
     },
     "execution_count": 22,
     "metadata": {},
     "output_type": "execute_result"
    }
   ],
   "source": [
    "y_pred"
   ]
  },
  {
   "cell_type": "markdown",
   "id": "4e1c0bce-ea04-4d65-9eb2-6b596d707c01",
   "metadata": {},
   "source": [
    "<h2>Model Evaluation</h2>"
   ]
  },
  {
   "cell_type": "code",
   "execution_count": 23,
   "id": "3f7d2973-0873-4f9c-a7ed-2d2dfa0e6b8a",
   "metadata": {},
   "outputs": [],
   "source": [
    "from sklearn.metrics import accuracy_score,recall_score, precision_score, f1_score,classification_report"
   ]
  },
  {
   "cell_type": "code",
   "execution_count": 24,
   "id": "4d67d3cc",
   "metadata": {},
   "outputs": [
    {
     "name": "stdout",
     "output_type": "stream",
     "text": [
      "Model's acuracy : 0.963452380952381\n",
      "Recall-Score : 0.9629738774222026\n",
      "Precision-Score : 0.9633347340757252\n",
      "F1-Score : 0.9629718282559893\n"
     ]
    }
   ],
   "source": [
    "print(\"Model's acuracy :\",accuracy_score(y_pred,y_test))\n",
    "print(\"Recall-Score :\",recall_score(y_pred,y_test,average=\"macro\"))\n",
    "print(\"Precision-Score :\",precision_score(y_pred,y_test,average=\"macro\"))\n",
    "print(\"F1-Score :\",f1_score(y_pred,y_test,average=\"macro\"))"
   ]
  },
  {
   "cell_type": "code",
   "execution_count": 25,
   "id": "f83b3873-51a9-4050-9623-6101076b61f5",
   "metadata": {},
   "outputs": [
    {
     "name": "stdout",
     "output_type": "stream",
     "text": [
      "              precision    recall  f1-score   support\n",
      "\n",
      "           0       0.97      0.98      0.98       842\n",
      "           1       0.98      0.99      0.98       914\n",
      "           2       0.97      0.97      0.97       858\n",
      "           3       0.96      0.96      0.96       871\n",
      "           4       0.94      0.98      0.96       790\n",
      "           5       0.97      0.96      0.97       777\n",
      "           6       0.99      0.95      0.97       841\n",
      "           7       0.96      0.98      0.97       889\n",
      "           8       0.97      0.92      0.94       824\n",
      "           9       0.93      0.94      0.93       794\n",
      "\n",
      "    accuracy                           0.96      8400\n",
      "   macro avg       0.96      0.96      0.96      8400\n",
      "weighted avg       0.96      0.96      0.96      8400\n",
      "\n"
     ]
    }
   ],
   "source": [
    "print(classification_report(y_pred,y_test))"
   ]
  },
  {
   "cell_type": "markdown",
   "id": "592678ef",
   "metadata": {},
   "source": [
    "# Confusion Matrix"
   ]
  },
  {
   "cell_type": "code",
   "execution_count": 26,
   "id": "5dee04b1",
   "metadata": {},
   "outputs": [],
   "source": [
    "import seaborn as sns\n",
    "from sklearn.metrics import confusion_matrix"
   ]
  },
  {
   "cell_type": "code",
   "execution_count": 27,
   "id": "6a1df9c4",
   "metadata": {},
   "outputs": [
    {
     "data": {
      "image/png": "[encoded data removed]",
      "text/plain": [
       "<Figure size 800x600 with 2 Axes>"
      ]
     },
     "metadata": {},
     "output_type": "display_data"
    }
   ],
   "source": [
    "# Compute confusion matrix\n",
    "cm = confusion_matrix(y_pred , y_test)\n",
    "\n",
    "# Plot confusion matrix as a heatmap\n",
    "plt.figure(figsize=(8, 6))\n",
    "sns.heatmap(cm, annot=True, fmt='d', cmap='Blues', xticklabels=categories, yticklabels=categories)\n",
    "plt.xlabel('Predicted label')\n",
    "plt.ylabel('True label')\n",
    "plt.title('Confusion Matrix')\n",
    "plt.show()"
   ]
  },
  {
   "cell_type": "markdown",
   "id": "d099512d",
   "metadata": {},
   "source": [
    "# Predict"
   ]
  },
  {
   "cell_type": "code",
   "execution_count": 62,
   "id": "40d949f6",
   "metadata": {},
   "outputs": [],
   "source": [
    "def classify_image(image):\n",
    "    plt.imshow(cv2.resize(image,(28,28)),cmap='gray')\n",
    "    print(image.shape)\n",
    "    image = np.expand_dims(image, axis=0)\n",
    "    print(image.shape)\n",
    "    # Perform prediction\n",
    "    prediction = np.argmax(model.predict(image))\n",
    "    \n",
    "    return prediction"
   ]
  },
  {
   "cell_type": "code",
   "execution_count": 63,
   "id": "7a37c2fe",
   "metadata": {},
   "outputs": [
    {
     "name": "stdout",
     "output_type": "stream",
     "text": [
      "(28, 28)\n",
      "(1, 28, 28)\n",
      "1/1 [==============================] - 0s 42ms/step\n"
     ]
    },
    {
     "data": {
      "text/plain": [
       "1"
      ]
     },
     "execution_count": 63,
     "metadata": {},
     "output_type": "execute_result"
    },
    {
     "data": {
      "image/png": "[encoded data removed]",
      "text/plain": [
       "<Figure size 640x480 with 1 Axes>"
      ]
     },
     "metadata": {},
     "output_type": "display_data"
    }
   ],
   "source": [
    "classify_image(x_test[0])"
   ]
  },
  {
   "cell_type": "markdown",
   "id": "7298d913",
   "metadata": {},
   "source": [
    "# Custom"
   ]
  },
  {
   "cell_type": "code",
   "execution_count": 68,
   "id": "b5022fd9",
   "metadata": {},
   "outputs": [],
   "source": [
    "def classify_image_custom(image):\n",
    "    image = cv2.resize(image, (28, 28))\n",
    "    print(image.shape)\n",
    "    plt.imshow(image,cmap='gray')\n",
    "    image = tf.keras.utils.normalize(image, axis=1)\n",
    "    # plt.imshow(image,cmap='gray')\n",
    "    plt.show()\n",
    "    image = np.expand_dims(image, axis=0)\n",
    "    # Perform prediction\n",
    "    prediction = np.argmax(model.predict(image))\n",
    "    \n",
    "    return prediction"
   ]
  },
  {
   "cell_type": "code",
   "execution_count": 69,
   "id": "f6ac69ba",
   "metadata": {},
   "outputs": [
    {
     "name": "stdout",
     "output_type": "stream",
     "text": [
      "(28, 28)\n"
     ]
    },
    {
     "data": {
      "image/png": "[encoded data removed]",
      "text/plain": [
       "<Figure size 640x480 with 1 Axes>"
      ]
     },
     "metadata": {},
     "output_type": "display_data"
    },
    {
     "name": "stdout",
     "output_type": "stream",
     "text": [
      "1/1 [==============================] - 0s 33ms/step\n"
     ]
    },
    {
     "data": {
      "text/plain": [
       "0"
      ]
     },
     "execution_count": 69,
     "metadata": {},
     "output_type": "execute_result"
    }
   ],
   "source": [
    "img = cv2.imread('data/test/img_2.jpg', cv2.IMREAD_GRAYSCALE)\n",
    "classify_image_custom(img)"
   ]
  },
  {
   "cell_type": "code",
   "execution_count": null,
   "id": "6bfe4f5d",
   "metadata": {},
   "outputs": [],
   "source": []
  }
 ],
 "metadata": {
  "kernelspec": {
   "display_name": "Python 3 (ipykernel)",
   "language": "python",
   "name": "python3"
  },
  "language_info": {
   "codemirror_mode": {
    "name": "ipython",
    "version": 3
   },
   "file_extension": ".py",
   "mimetype": "text/x-python",
   "name": "python",
   "nbconvert_exporter": "python",
   "pygments_lexer": "ipython3",
   "version": "3.8.19"
  }
 },
 "nbformat": 4,
 "nbformat_minor": 5
}
